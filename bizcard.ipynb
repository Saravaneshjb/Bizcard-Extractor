{
 "cells": [
  {
   "cell_type": "code",
   "execution_count": 109,
   "metadata": {},
   "outputs": [],
   "source": [
    "# result=[([[466, 62], [718, 62], [718, 112], [466, 112]], 'KARTHICK', 0.9999798537223525), \n",
    "#  ([[481, 114], [741, 114], [741, 156], [481, 156]], 'General Manager', 0.8283988571795506), \n",
    "#  ([[576, 187], [803, 187], [803, 220], [576, 220]], '123 ABC St , Salem,', 0.9104906870905948),  \n",
    "#  ([[574, 220], [814, 220], [814, 250], [574, 250]], 'TamilNadu 6004513', 0.7522201547840728),   \n",
    "#  ([[564, 266], [768, 266], [768, 298], [564, 298]], '+123-456-7890', 0.5074627240960073), \n",
    "#  ([[598, 318], [864, 318], [864, 350], [598, 350]], 'hello@Borcelle.com', 0.9531449571013404), \n",
    "#  ([[598, 371], [847, 371], [847, 403], [598, 403]], 'www Borcelle.com', 0.5453895913218627), \n",
    "#  ([[78, 446], [340, 446], [340, 496], [78, 496]], 'BORCELLE', 0.9984024850504049), \n",
    "#  ([[81, 511], [319, 511], [319, 561], [81, 561]], 'AIRLINES', 0.985242861596538)] \n",
    "\n",
    "\n",
    "result=[([[47, 113], [156, 113], [156, 157], [47, 157]], 'Selva', 0.8874894091541627), \n",
    " ([[52, 158], [278, 158], [278, 190], [52, 190]], 'DATA MANAGER', 0.9993089630288705), \n",
    " ([[120, 224], [333, 224], [333, 254], [120, 254]], '+123-456-7890', 0.7200904901337779), \n",
    " ([[120, 262], [330, 262], [330, 294], [120, 294]], '+123-456-7891', 0.7314826332200398), \n",
    " ([[120, 318], [340, 318], [340, 350], [120, 350]], 'WWW XYZI.com', 0.6814776339654656), \n",
    " ([[119, 355], [359, 355], [359, 391], [119, 391]], 'hello@XYZ1.com', 0.8672664459939208), \n",
    " ([[121, 410], [411, 410], [411, 447], [121, 447]], '123 ABC St , Chennai;', 0.43137937658807757), \n",
    " ([[725, 388], [908, 388], [908, 463], [725, 463]], 'selva', 0.9999268555996703), \n",
    " ([[119, 445], [379, 445], [379, 481], [119, 481]], 'TamilNadu 600113', 0.9497879843832286),\n",
    " ([[694, 477], [942, 477], [942, 565], [694, 565]], 'digitals', 0.9388368793764972)]\n",
    "\n",
    "\n",
    "# result=[([[126, 126], [402, 126], [402, 178], [126, 178]], 'Amit kumar', 0.8217942477635098), \n",
    "#  ([[125, 193], [393, 193], [393, 229], [125, 229]], 'CEO & FOUNDER', 0.9981913601976996), \n",
    "#  ([[172, 278], [342, 278], [342, 310], [172, 310]], '123-456-7569', 0.7599104170013044), \n",
    "#  ([[169, 331], [411, 331], [411, 371], [169, 371]], 'hello@global.com', 0.9396091445440375), \n",
    "#  ([[168, 388], [240, 388], [240, 412], [168, 412]], 'WWW', 0.9990257007900342), \n",
    "#  ([[241, 381], [393, 381], [393, 419], [241, 419]], 'global.com', 0.6216656909536002), \n",
    "#  ([[167, 428], [308, 428], [308, 472], [167, 472]], '123 global', 0.980461343008494), \n",
    "#  ([[349, 427], [449, 427], [449, 472], [349, 472]], 'Erode,', 0.8696428830728805),    #There is a comma after the city name\n",
    "#  ([[651, 410], [930, 410], [930, 484], [651, 484]], 'GLOBAL', 0.9998840214288347),          \n",
    "#  ([[166, 472], [416, 472], [416, 504], [166, 504]], 'TamilNadu 600115', 0.9996330221302328), \n",
    "#  ([[590, 505], [986, 505], [986, 573], [590, 573]], 'INSURANCE', 0.9999763566844869), \n",
    "#  ([[305.1299778141514, 431.1289267866996], [354.76594631682207, 438.8383025469347], [349.8700221858486, 469.8710732133004], [299.23405368317793, 462.1616974530653]], 'St ,', 0.5235605239868164)]"
   ]
  },
  {
   "cell_type": "code",
   "execution_count": 20,
   "metadata": {},
   "outputs": [
    {
     "name": "stderr",
     "output_type": "stream",
     "text": [
      "[nltk_data] Downloading package punkt to\n",
      "[nltk_data]     C:\\Users\\sarav\\AppData\\Roaming\\nltk_data...\n",
      "[nltk_data]   Unzipping tokenizers\\punkt.zip.\n",
      "[nltk_data] Downloading package averaged_perceptron_tagger to\n",
      "[nltk_data]     C:\\Users\\sarav\\AppData\\Roaming\\nltk_data...\n",
      "[nltk_data]   Unzipping taggers\\averaged_perceptron_tagger.zip.\n"
     ]
    }
   ],
   "source": [
    "import nltk\n",
    "nltk.download('punkt')\n",
    "nltk.download('averaged_perceptron_tagger')\n",
    "\n",
    "# Function to detect if a word is a noun\n",
    "def is_noun(word):\n",
    "    # Tokenize the word\n",
    "    tokens = nltk.word_tokenize(word)\n",
    "    \n",
    "    # Perform POS tagging\n",
    "    tagged = nltk.pos_tag(tokens)\n",
    "    \n",
    "    # Check if the word is tagged as a noun (NN)\n",
    "    for _, tag in tagged:\n",
    "        if tag == 'NN':\n",
    "            return True\n",
    "    return False\n"
   ]
  },
  {
   "cell_type": "code",
   "execution_count": 40,
   "metadata": {},
   "outputs": [],
   "source": [
    "state_lst=[\n",
    "        'Andaman & Nicobar',\n",
    "        'AndhraPradesh',\n",
    "        'ArunachalPradesh',\n",
    "        'Assam',\n",
    "        'Bihar',\n",
    "        'Chandigarh',\n",
    "        'Chhattisgarh',\n",
    "        'Dadra and Nagar Haveli and Daman and Diu',\n",
    "        'Delhi',\n",
    "        'Goa',\n",
    "        'Gujarat',\n",
    "        'Haryana',\n",
    "        'HimachalPradesh',\n",
    "        'Jammu & Kashmir',\n",
    "        'Jharkhand',\n",
    "        'Karnataka',\n",
    "        'Kerala',\n",
    "        'Ladakh',\n",
    "        'Lakshadweep',\n",
    "        'MadhyaPradesh',\n",
    "        'Maharashtra',\n",
    "        'Manipur',\n",
    "        'Meghalaya',\n",
    "        'Mizoram',\n",
    "        'Nagaland',\n",
    "        'Odisha',\n",
    "        'Puducherry',\n",
    "        'Punjab',\n",
    "        'Rajasthan',\n",
    "        'Sikkim',\n",
    "        'TamilNadu',\n",
    "        'Telangana',\n",
    "        'Tripura',\n",
    "        'UttarPradesh',\n",
    "        'Uttarakhand',\n",
    "        'WestBengal']"
   ]
  },
  {
   "cell_type": "code",
   "execution_count": 42,
   "metadata": {},
   "outputs": [
    {
     "name": "stdout",
     "output_type": "stream",
     "text": [
      "['Andaman & Nicobar', 'AndhraPradesh', 'ArunachalPradesh', 'Assam', 'Bihar', 'Chandigarh', 'Chhattisgarh', 'Dadra and Nagar Haveli and Daman and Diu', 'Delhi', 'Goa', 'Gujarat', 'Haryana', 'HimachalPradesh', 'Jammu & Kashmir', 'Jharkhand', 'Karnataka', 'Kerala', 'Ladakh', 'Lakshadweep', 'MadhyaPradesh', 'Maharashtra', 'Manipur', 'Meghalaya', 'Mizoram', 'Nagaland', 'Odisha', 'Puducherry', 'Punjab', 'Rajasthan', 'Sikkim', 'TamilNadu', 'Telangana', 'Tripura', 'UttarPradesh', 'Uttarakhand', 'WestBengal']\n"
     ]
    }
   ],
   "source": [
    "print(state_lst)"
   ]
  },
  {
   "cell_type": "code",
   "execution_count": 45,
   "metadata": {},
   "outputs": [
    {
     "name": "stdout",
     "output_type": "stream",
     "text": [
      "['andaman & nicobar', 'andhrapradesh', 'arunachalpradesh', 'assam', 'bihar', 'chandigarh', 'chhattisgarh', 'dadra and nagar haveli and daman and diu', 'delhi', 'goa', 'gujarat', 'haryana', 'himachalpradesh', 'jammu & kashmir', 'jharkhand', 'karnataka', 'kerala', 'ladakh', 'lakshadweep', 'madhyapradesh', 'maharashtra', 'manipur', 'meghalaya', 'mizoram', 'nagaland', 'odisha', 'puducherry', 'punjab', 'rajasthan', 'sikkim', 'tamilnadu', 'telangana', 'tripura', 'uttarpradesh', 'uttarakhand', 'westbengal']\n"
     ]
    }
   ],
   "source": [
    "print([items.lower() for items in state_lst])"
   ]
  },
  {
   "cell_type": "code",
   "execution_count": 21,
   "metadata": {},
   "outputs": [
    {
     "name": "stdout",
     "output_type": "stream",
     "text": [
      "apple is a noun\n"
     ]
    }
   ],
   "source": [
    "word='apple'\n",
    "if is_noun(word):\n",
    "    print(f\"{word} is a noun\")\n",
    "else:\n",
    "    print(f\"{word} is not a noun\")"
   ]
  },
  {
   "cell_type": "code",
   "execution_count": 105,
   "metadata": {},
   "outputs": [],
   "source": [
    "import india\n",
    "city_lst=list()\n",
    "\n",
    "for items in india.CITIES:\n",
    "    city_lst.append(str(items))"
   ]
  },
  {
   "cell_type": "code",
   "execution_count": 122,
   "metadata": {},
   "outputs": [
    {
     "data": {
      "text/plain": [
       "['SANTHOSH',\n",
       " 'Technical Manager',\n",
       " '123 ABC St  Tirupur TamilNadu',\n",
       " '641603',\n",
       " '+123-456-1234',\n",
       " 'hello@Sun.com',\n",
       " 'www.Suncom',\n",
       " 'Sun Electricals']"
      ]
     },
     "execution_count": 122,
     "metadata": {},
     "output_type": "execute_result"
    }
   ],
   "source": [
    "result=[([[26, 87], [325, 87], [325, 143], [26, 143]], 'SANTHOSH', 0.999971424267591), \n",
    " ([[42, 147], [343, 147], [343, 198], [42, 198]], 'Technical Manager', 0.7167103817008842), \n",
    " ([[102, 259], [459, 259], [459, 291], [102, 291]], '123 ABC St , Tirupur; TamilNadu,', 0.482198127878888), \n",
    " ([[236, 292], [324, 292], [324, 320], [236, 320]], '641603', 0.7935126245291695),                          \n",
    " ([[112, 315], [310, 315], [310, 348], [112, 348]], '+123-456-1234', 0.7556362797475622), \n",
    " ([[176, 368], [383, 368], [383, 408], [176, 408]], 'hello@Sun.com', 0.8757734660247763), \n",
    " ([[178, 426], [364, 426], [364, 454], [178, 454]], 'www.Suncom', 0.6085991995359809), \n",
    " ([[506, 492], [1000, 492], [1000, 568], [506, 568]], 'Sun Electricals', 0.8029833031157146)]\n",
    "\n",
    "processed_data=list()\n",
    "for detection in result:\n",
    "    text=detection[1]\n",
    "    processed_text = text.replace(';', '').replace(',', '')  # Replace both ; and ,\n",
    "    processed_data.append(processed_text)\n",
    "\n",
    "processed_data\n"
   ]
  },
  {
   "cell_type": "code",
   "execution_count": 212,
   "metadata": {},
   "outputs": [
    {
     "name": "stdout",
     "output_type": "stream",
     "text": [
      "Selva\n",
      "DATA MANAGER\n",
      "+123-456-7890\n",
      "+123-456-7891\n",
      "WWW XYZI.com\n",
      "hello@XYZ1.com\n",
      "123 ABC St  Chennai\n",
      "selva\n",
      "TamilNadu 600113\n",
      "digitals\n",
      "\n",
      "\n",
      "The noun list items begins from here\n",
      "123\n",
      "ABC\n",
      "St\n",
      "Chennai\n",
      "TamilNadu\n",
      "600113\n",
      "['DATA MANAGER', 'WWW XYZI.com', 'selva', 'digitals']\n",
      "['Selva', 'DATA MANAGER', 'TamilNadu', 'Chennai', '600113', 'Chennai', '+123-456-7890', '+123-456-7891', 'hello@XYZ1.com', 'WWW XYZI.com']\n",
      "{'Name': ['Selva'], 'Designation': ['DATA MANAGER'], 'Organization Name': ['selva', 'digitals'], 'State': ['TamilNadu'], 'City': ['Chennai'], 'Pincode': ['600113'], 'Area': ['Chennai'], 'Phone number': ['+123-456-7890', '+123-456-7891'], 'Email ID': ['hello@XYZ1.com'], 'Website': ['WWW XYZI.com']}\n"
     ]
    }
   ],
   "source": [
    "lst_of_items=list()\n",
    "noun_lst=list()\n",
    "not_noun_lst=list()\n",
    "processed_data=list()\n",
    "details_dict={\"Name\": [],\n",
    "        \"Designation\": [],\n",
    "        \"Organization Name\": [],\n",
    "        \"State\": [],\n",
    "        \"City\": [],\n",
    "        \"Pincode\": [],\n",
    "        \"Area\": [],\n",
    "        \"Phone number\": [],\n",
    "        \"Email ID\": [],\n",
    "        \"Website\": []}\n",
    "\n",
    "##Preprocessing the data to remove extra commas and semi-colons\n",
    "for detection in result:\n",
    "    text=detection[1]\n",
    "    processed_text = text.replace(';', '').replace(',', '')  # Replace both ; and ,\n",
    "    processed_data.append(processed_text)\n",
    "    \n",
    "for index,detection in enumerate(processed_data):\n",
    "    text=detection\n",
    "    lst_of_items.append(text)\n",
    "    print(text)\n",
    "    if (('+' in text) or ('-' in text)) and any(items.isdigit() for items in text):\n",
    "        details_dict['Phone number'].append(text)\n",
    "        not_noun_lst.append(text)\n",
    "    elif (\"@\" not in text.lower()) and (\"www\" in text.lower() or \".com\" in text.lower()):\n",
    "        details_dict['Website'].append(text)\n",
    "        not_noun_lst.append(text)\n",
    "    elif \"@\" in text.lower():\n",
    "        details_dict['Email ID'].append(text)\n",
    "        not_noun_lst.append(text)\n",
    "    elif text.isdigit() and (len(text)==6 or len(text)==7):\n",
    "        details_dict['Pincode'].append(text)\n",
    "        not_noun_lst.append(text)\n",
    "    elif text.lower() in [items.lower() for items in state_lst]:\n",
    "        details_dict['State'].append(text)\n",
    "    elif text.lower() in [items.lower() for items in city_lst]:\n",
    "        details_dict['City'].append(text)\n",
    "        details_dict['Area'].append(text)\n",
    "    elif index==0:\n",
    "        details_dict['Name'].append(text)\n",
    "    elif index==1:\n",
    "        details_dict['Designation'].append(text)\n",
    "    elif is_noun(text.lower()):\n",
    "        noun_lst.append(text)\n",
    "    else:\n",
    "        not_noun_lst.append(text)\n",
    "\n",
    "## Iterating over the Noun list \n",
    "print(\"\\n\")\n",
    "print(\"The noun list items begins from here\")\n",
    "for noun_items in noun_lst:\n",
    "    if len(noun_items.split())>1:\n",
    "        for items in noun_items.split():\n",
    "            print(items)\n",
    "            if items.lower() in [items.lower() for items in state_lst]:\n",
    "                # print(f\"The {items} is a state\")\n",
    "                details_dict['State'].append(items)\n",
    "            elif items.lower() in [items.lower() for items in city_lst]:\n",
    "                details_dict['City'].append(items)\n",
    "                details_dict['Area'].append(items)\n",
    "            elif items.isdigit() and (len(items)==6 or len(items)==7):\n",
    "                # print(f\"{items} is a pincode\")\n",
    "                details_dict['Pincode'].append(items)\n",
    "\n",
    "# Code to set the Organization Name \n",
    "final_items=list()\n",
    "for items in details_dict.values():\n",
    "    for vals in items:\n",
    "        final_items.append(vals)\n",
    "\n",
    "# Convert final_items to a set for faster lookup\n",
    "final_items_set = set(final_items)\n",
    "# print(final_items_set)\n",
    "\n",
    "# Create a new list to store items not present in final_items\n",
    "updated_lst_of_items = []\n",
    "\n",
    "# Iterate through lst_of_items\n",
    "for item in lst_of_items:\n",
    "    # Check if any part of the item is present in final_items\n",
    "    if not any(part in final_items_set for part in item.split()):\n",
    "        # If not present, add the item to updated_lst_of_items\n",
    "        updated_lst_of_items.append(item)\n",
    "\n",
    "# Update lst_of_items with updated_lst_of_items\n",
    "lst_of_items = updated_lst_of_items\n",
    "# print(\"Lst of items before last check\")\n",
    "print(lst_of_items)\n",
    "print(final_items)\n",
    "\n",
    "#One final check \n",
    "for items in lst_of_items:\n",
    "    # print(f'{items} being processed')\n",
    "    if (items not in final_items) and (not any(char.isdigit() for char in items)) and ('st ' not in items.lower() or 'st' not in items.lower() or len(items)>3):\n",
    "        details_dict['Organization Name'].append(items)\n",
    "        # continue\n",
    "    # elif items not in final_items:\n",
    "    #     details_dict['Organization Name'].append(items)\n",
    "\n",
    "print(details_dict)"
   ]
  },
  {
   "cell_type": "code",
   "execution_count": 241,
   "metadata": {},
   "outputs": [
    {
     "name": "stdout",
     "output_type": "stream",
     "text": [
      "{'Name': 'Selva', 'Designation': 'DATA MANAGER', 'Organization Name': 'selva digitals', 'State': 'TamilNadu', 'City': 'Chennai', 'Pincode': '600113', 'Area': 'Chennai', 'Phone number': ['+123-456-7890', '+123-456-7891'], 'Email ID': 'hello@XYZ1.com', 'Website': 'WWW.XYZI.com'}\n"
     ]
    }
   ],
   "source": [
    "my_dict={'Name': ['Selva'], 'Designation': ['DATA MANAGER'], 'Organization Name': ['selva', 'digitals'], 'State': ['TamilNadu'], 'City': ['Chennai'], 'Pincode': ['600113'], 'Area': ['Chennai'], 'Phone number': ['+123-456-7890', '+123-456-7891'], 'Email ID': ['hello@XYZ1.com'], 'Website': ['WWW XYZI.com']}\n",
    "\n",
    "## Logic to unpack all the elements in the list and store them as a string in the Dictionary\n",
    "for item in my_dict:\n",
    "    if item=='Organization Name' and len(my_dict[item])>1:\n",
    "        # print(item, my_dict[item][0]+' '+my_dict[item][1])\n",
    "        my_dict[item]=my_dict[item][0]+' '+my_dict[item][1]\n",
    "    elif item=='Website':\n",
    "        if my_dict[item][0][3]=='.':\n",
    "            print(item,my_dict[item])\n",
    "        else:\n",
    "            my_dict[item]=my_dict[item][0][0:3]+'.'+my_dict[item][0][4:]\n",
    "    else:\n",
    "        if item!=\"Phone number\":\n",
    "            if isinstance(my_dict[item], list):\n",
    "                my_dict[item] = ' '.join(my_dict[item])\n",
    "            else:\n",
    "                my_dict[item] = my_dict[item]\n",
    "        elif item==\"Phone number\" and len(my_dict[item])==1:\n",
    "            if isinstance(my_dict[item], list):\n",
    "                my_dict[item] = ' '.join(my_dict[item])\n",
    "            else:\n",
    "                my_dict[item] = my_dict[item]\n",
    "\n",
    "print(my_dict)"
   ]
  },
  {
   "cell_type": "code",
   "execution_count": 242,
   "metadata": {},
   "outputs": [],
   "source": [
    "import pandas as pd"
   ]
  },
  {
   "cell_type": "code",
   "execution_count": 255,
   "metadata": {},
   "outputs": [],
   "source": [
    "#Logic to convert the dictionary to a dataframe \n",
    "my_dict['Phone number'] = str(my_dict['Phone number'])\n",
    "df=pd.DataFrame(my_dict,index=[0])\n",
    "df2=df.T"
   ]
  },
  {
   "cell_type": "code",
   "execution_count": 256,
   "metadata": {},
   "outputs": [
    {
     "data": {
      "text/html": [
       "<div>\n",
       "<style scoped>\n",
       "    .dataframe tbody tr th:only-of-type {\n",
       "        vertical-align: middle;\n",
       "    }\n",
       "\n",
       "    .dataframe tbody tr th {\n",
       "        vertical-align: top;\n",
       "    }\n",
       "\n",
       "    .dataframe thead th {\n",
       "        text-align: right;\n",
       "    }\n",
       "</style>\n",
       "<table border=\"1\" class=\"dataframe\">\n",
       "  <thead>\n",
       "    <tr style=\"text-align: right;\">\n",
       "      <th></th>\n",
       "      <th>0</th>\n",
       "    </tr>\n",
       "  </thead>\n",
       "  <tbody>\n",
       "    <tr>\n",
       "      <th>Name</th>\n",
       "      <td>Selva</td>\n",
       "    </tr>\n",
       "    <tr>\n",
       "      <th>Designation</th>\n",
       "      <td>DATA MANAGER</td>\n",
       "    </tr>\n",
       "    <tr>\n",
       "      <th>Organization Name</th>\n",
       "      <td>selva digitals</td>\n",
       "    </tr>\n",
       "    <tr>\n",
       "      <th>State</th>\n",
       "      <td>TamilNadu</td>\n",
       "    </tr>\n",
       "    <tr>\n",
       "      <th>City</th>\n",
       "      <td>Chennai</td>\n",
       "    </tr>\n",
       "    <tr>\n",
       "      <th>Pincode</th>\n",
       "      <td>600113</td>\n",
       "    </tr>\n",
       "    <tr>\n",
       "      <th>Area</th>\n",
       "      <td>Chennai</td>\n",
       "    </tr>\n",
       "    <tr>\n",
       "      <th>Phone number</th>\n",
       "      <td>['+123-456-7890', '+123-456-7891']</td>\n",
       "    </tr>\n",
       "    <tr>\n",
       "      <th>Email ID</th>\n",
       "      <td>hello@XYZ1.com</td>\n",
       "    </tr>\n",
       "    <tr>\n",
       "      <th>Website</th>\n",
       "      <td>WWW.XYZI.com</td>\n",
       "    </tr>\n",
       "  </tbody>\n",
       "</table>\n",
       "</div>"
      ],
      "text/plain": [
       "                                                    0\n",
       "Name                                            Selva\n",
       "Designation                              DATA MANAGER\n",
       "Organization Name                      selva digitals\n",
       "State                                       TamilNadu\n",
       "City                                          Chennai\n",
       "Pincode                                        600113\n",
       "Area                                          Chennai\n",
       "Phone number       ['+123-456-7890', '+123-456-7891']\n",
       "Email ID                               hello@XYZ1.com\n",
       "Website                                  WWW.XYZI.com"
      ]
     },
     "execution_count": 256,
     "metadata": {},
     "output_type": "execute_result"
    }
   ],
   "source": [
    "df2"
   ]
  },
  {
   "cell_type": "code",
   "execution_count": 237,
   "metadata": {},
   "outputs": [
    {
     "name": "stdout",
     "output_type": "stream",
     "text": [
      "{'Name': 'Selva', 'Designation': 'DATA MANAGER', 'Organization Name': 'selva digitals', 'State': 'TamilNadu', 'City': 'Chennai', 'Pincode': '600113', 'Area': 'Chennai', 'Phone number': ['+123-456-7890', '+123-456-7891'], 'Email ID': 'hello@XYZ1.com', 'Website': 'WWW.XYZI.com'}\n"
     ]
    }
   ],
   "source": [
    "data = {\n",
    "    'Name': ['Selva'],\n",
    "    'Designation': ['DATA MANAGER'],\n",
    "    'Organization Name': ['selva', 'digitals'],\n",
    "    'State': ['TamilNadu'],\n",
    "    'City': ['Chennai'],\n",
    "    'Pincode': ['600113'],\n",
    "    'Area': ['Chennai'],\n",
    "    'Phone number': ['+123-456-7890', '+123-456-7891'],\n",
    "    'Email ID': ['hello@XYZ1.com'],\n",
    "    'Website': ['WWW.XYZI.com']\n",
    "}\n",
    "\n",
    "for key, value in data.items():\n",
    "    if key != 'Phone number':\n",
    "        if isinstance(value, list):\n",
    "            data[key] = ' '.join(value)\n",
    "        else:\n",
    "            data[key] = value\n",
    "\n",
    "print(data)\n"
   ]
  },
  {
   "cell_type": "code",
   "execution_count": 234,
   "metadata": {},
   "outputs": [
    {
     "data": {
      "text/plain": [
       "'WWW XYZI.com'"
      ]
     },
     "execution_count": 234,
     "metadata": {},
     "output_type": "execute_result"
    }
   ],
   "source": [
    "my_dict['Website'][0]"
   ]
  },
  {
   "cell_type": "code",
   "execution_count": 135,
   "metadata": {},
   "outputs": [
    {
     "data": {
      "text/plain": [
       "['SANTHOSH',\n",
       " 'Technical Manager',\n",
       " 'TamilNadu',\n",
       " 'Tirupur',\n",
       " '641603',\n",
       " 'Tirupur',\n",
       " '+123-456-1234',\n",
       " 'hello@Sun.com',\n",
       " 'www.Suncom']"
      ]
     },
     "execution_count": 135,
     "metadata": {},
     "output_type": "execute_result"
    }
   ],
   "source": [
    "final_items=list()\n",
    "for items in details_dict.values():\n",
    "    for vals in items:\n",
    "        final_items.append(vals)\n",
    "\n",
    "final_items"
   ]
  },
  {
   "cell_type": "code",
   "execution_count": 151,
   "metadata": {},
   "outputs": [
    {
     "name": "stdout",
     "output_type": "stream",
     "text": [
      "{'Technical Manager', 'TamilNadu', '+123-456-1234', 'www.Suncom', 'SANTHOSH', 'hello@Sun.com', 'Tirupur', '641603'}\n",
      "Lst of items before last check\n",
      "['Technical Manager', 'Sun Electricals']\n"
     ]
    }
   ],
   "source": [
    "lst_of_items = ['SANTHOSH', 'Technical Manager', '123 ABC St  Tirupur TamilNadu', '641603', '+123-456-1234', 'hello@Sun.com', 'www.Suncom', 'Sun Electricals']\n",
    "final_items = ['SANTHOSH', 'Technical Manager', 'TamilNadu', 'Tirupur', '641603', 'Tirupur', '+123-456-1234', 'hello@Sun.com', 'www.Suncom']\n",
    "\n",
    "# Convert final_items to a set for faster lookup\n",
    "final_items_set = set(final_items)\n",
    "print(final_items_set)\n",
    "\n",
    "# Create a new list to store items not present in final_items\n",
    "updated_lst_of_items = []\n",
    "\n",
    "# Iterate through lst_of_items\n",
    "for item in lst_of_items:\n",
    "    # Check if any part of the item is present in final_items\n",
    "    if not any(part in final_items_set for part in item.split()):\n",
    "        # If not present, add the item to updated_lst_of_items\n",
    "        updated_lst_of_items.append(item)\n",
    "\n",
    "# Update lst_of_items with updated_lst_of_items\n",
    "lst_of_items = updated_lst_of_items\n",
    "updated_lst_of_items=[]\n",
    "print(\"Lst of items before last check\")\n",
    "print(lst_of_items)\n",
    "\n",
    "#One final check \n",
    "for items in lst_of_items:\n",
    "    if items not in final_items:\n",
    "        details_dict['Organization Name'].append(items)\n"
   ]
  },
  {
   "cell_type": "code",
   "execution_count": 152,
   "metadata": {},
   "outputs": [
    {
     "data": {
      "text/plain": [
       "{'Name': ['SANTHOSH'],\n",
       " 'Designation': ['Technical Manager'],\n",
       " 'Organization Name': ['Sun Electricals'],\n",
       " 'State': ['TamilNadu'],\n",
       " 'City': ['Tirupur'],\n",
       " 'Pincode': ['641603'],\n",
       " 'Area': ['Tirupur'],\n",
       " 'Phone number': ['+123-456-1234'],\n",
       " 'Email ID': ['hello@Sun.com'],\n",
       " 'Website': ['www.Suncom']}"
      ]
     },
     "execution_count": 152,
     "metadata": {},
     "output_type": "execute_result"
    }
   ],
   "source": [
    "details_dict"
   ]
  },
  {
   "cell_type": "code",
   "execution_count": 149,
   "metadata": {},
   "outputs": [
    {
     "data": {
      "text/plain": [
       "[['SANTHOSH'],\n",
       " ['Technical Manager'],\n",
       " [],\n",
       " ['TamilNadu'],\n",
       " ['Tirupur'],\n",
       " ['641603'],\n",
       " ['Tirupur'],\n",
       " ['+123-456-1234'],\n",
       " ['hello@Sun.com'],\n",
       " ['www.Suncom']]"
      ]
     },
     "execution_count": 149,
     "metadata": {},
     "output_type": "execute_result"
    }
   ],
   "source": [
    "list(details_dict.values())"
   ]
  },
  {
   "cell_type": "code",
   "execution_count": 140,
   "metadata": {},
   "outputs": [
    {
     "name": "stdout",
     "output_type": "stream",
     "text": [
      "['Technical Manager', 'Sun Electricals']\n"
     ]
    }
   ],
   "source": [
    "lst_of_items = ['SANTHOSH', 'Technical Manager', '123 ABC St  Tirupur TamilNadu', '641603', '+123-456-1234', 'hello@Sun.com', 'www.Suncom', 'Sun Electricals']\n",
    "final_items = ['SANTHOSH', 'Technical Manager', 'TamilNadu', 'Tirupur', '641603', 'Tirupur', '+123-456-1234', 'hello@Sun.com', 'www.Suncom']\n",
    "\n",
    "# Create a new list to store items not present in final_items\n",
    "updated_lst_of_items = []\n",
    "\n",
    "# Iterate through lst_of_items\n",
    "for item in lst_of_items:\n",
    "    # Split the item into parts\n",
    "    parts = item.split()\n",
    "\n",
    "    # Flag to check if any part is found in final_items\n",
    "    found = False\n",
    "\n",
    "    # Iterate through parts\n",
    "    for part in parts:\n",
    "        # Check if the part is present in final_items\n",
    "        if part in final_items:\n",
    "            # If found, set flag to True\n",
    "            found = True\n",
    "            break\n",
    "\n",
    "    # If none of the parts are found in final_items, add the item to updated_lst_of_items\n",
    "    if not found:\n",
    "        updated_lst_of_items.append(item)\n",
    "\n",
    "# Update lst_of_items with updated_lst_of_items\n",
    "lst_of_items = updated_lst_of_items\n",
    "\n",
    "print(lst_of_items)\n"
   ]
  },
  {
   "cell_type": "code",
   "execution_count": 104,
   "metadata": {},
   "outputs": [
    {
     "data": {
      "text/plain": [
       "True"
      ]
     },
     "execution_count": 104,
     "metadata": {},
     "output_type": "execute_result"
    }
   ],
   "source": [
    "'Chennai' in city_lst"
   ]
  },
  {
   "cell_type": "code",
   "execution_count": null,
   "metadata": {},
   "outputs": [],
   "source": []
  },
  {
   "cell_type": "code",
   "execution_count": null,
   "metadata": {},
   "outputs": [],
   "source": []
  },
  {
   "cell_type": "code",
   "execution_count": null,
   "metadata": {},
   "outputs": [],
   "source": []
  },
  {
   "cell_type": "code",
   "execution_count": null,
   "metadata": {},
   "outputs": [],
   "source": []
  },
  {
   "cell_type": "code",
   "execution_count": null,
   "metadata": {},
   "outputs": [],
   "source": []
  },
  {
   "cell_type": "code",
   "execution_count": null,
   "metadata": {},
   "outputs": [],
   "source": []
  }
 ],
 "metadata": {
  "kernelspec": {
   "display_name": "Python 3",
   "language": "python",
   "name": "python3"
  },
  "language_info": {
   "codemirror_mode": {
    "name": "ipython",
    "version": 3
   },
   "file_extension": ".py",
   "mimetype": "text/x-python",
   "name": "python",
   "nbconvert_exporter": "python",
   "pygments_lexer": "ipython3",
   "version": "3.10.0"
  }
 },
 "nbformat": 4,
 "nbformat_minor": 2
}
